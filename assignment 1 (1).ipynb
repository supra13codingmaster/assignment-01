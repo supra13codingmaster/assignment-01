{
 "cells": [
  {
   "cell_type": "code",
   "execution_count": 2,
   "id": "487fe325-859e-4090-8d7b-3e9d3406bb05",
   "metadata": {},
   "outputs": [],
   "source": [
    "var=\"supratim\"\n",
    "var=[1,2,3,4,\"sign\",True,23.98]\n",
    "var=23.67\n",
    "var=('Apple','jackfriut','banana','sugarcane')"
   ]
  },
  {
   "cell_type": "code",
   "execution_count": null,
   "id": "eea581ce-d733-4188-a628-2687ded52ead",
   "metadata": {},
   "outputs": [],
   "source": [
    "QUES-2"
   ]
  },
  {
   "cell_type": "code",
   "execution_count": 3,
   "id": "fb2d7db2-f628-42cd-972f-e214006b9fdc",
   "metadata": {},
   "outputs": [
    {
     "name": "stdout",
     "output_type": "stream",
     "text": [
      "<class 'str'>\n"
     ]
    }
   ],
   "source": [
    "var1=\"\"\n",
    "print(type(var1))"
   ]
  },
  {
   "cell_type": "code",
   "execution_count": 4,
   "id": "0e5c1800-6a8d-4c43-b733-114bd608dd8a",
   "metadata": {},
   "outputs": [
    {
     "name": "stdout",
     "output_type": "stream",
     "text": [
      "<class 'str'>\n"
     ]
    }
   ],
   "source": [
    "var2='[DS,ML,Python]'\n",
    "print(type(var2))"
   ]
  },
  {
   "cell_type": "code",
   "execution_count": 5,
   "id": "2f2509c8-ce4f-421f-87ff-c23a5ea76f42",
   "metadata": {},
   "outputs": [
    {
     "name": "stdout",
     "output_type": "stream",
     "text": [
      "<class 'int'>\n"
     ]
    }
   ],
   "source": [
    "var4=1\n",
    "print(type(var4))"
   ]
  },
  {
   "cell_type": "code",
   "execution_count": 6,
   "id": "2de8ba47-4bae-43d6-91b9-b4b462581160",
   "metadata": {},
   "outputs": [
    {
     "ename": "SyntaxError",
     "evalue": "invalid character '‘' (U+2018) (1814995269.py, line 1)",
     "output_type": "error",
     "traceback": [
      "\u001b[0;36m  Cell \u001b[0;32mIn[6], line 1\u001b[0;36m\u001b[0m\n\u001b[0;31m    var3 = [ ‘DS’ , ’ML’ , ‘Python’ ]\u001b[0m\n\u001b[0m             ^\u001b[0m\n\u001b[0;31mSyntaxError\u001b[0m\u001b[0;31m:\u001b[0m invalid character '‘' (U+2018)\n"
     ]
    }
   ],
   "source": [
    "var3 = [ ‘DS’ , ’ML’ , ‘Python’ ]\n",
    "print(type(var3))"
   ]
  },
  {
   "cell_type": "code",
   "execution_count": null,
   "id": "7dbe18ef-cedf-479b-a7d0-3066f68874c0",
   "metadata": {},
   "outputs": [],
   "source": [
    "Ques -3 "
   ]
  },
  {
   "cell_type": "code",
   "execution_count": null,
   "id": "f7015775-c97c-4268-9a39-6909a2c396f9",
   "metadata": {},
   "outputs": [],
   "source": [
    "/-this is an airthmatic operator\n",
    "It is used for divison\n"
   ]
  },
  {
   "cell_type": "code",
   "execution_count": 12,
   "id": "39789415-035f-43ec-abba-98558878dc6b",
   "metadata": {},
   "outputs": [
    {
     "data": {
      "text/plain": [
       "1.6666666666666667"
      ]
     },
     "execution_count": 12,
     "metadata": {},
     "output_type": "execute_result"
    }
   ],
   "source": [
    "5/3"
   ]
  },
  {
   "cell_type": "code",
   "execution_count": null,
   "id": "6012cb23-9ef3-41a9-b9dc-871b906f366a",
   "metadata": {},
   "outputs": [],
   "source": [
    "%-this is also an airthmatic operator \n",
    "It is used to return the remainder"
   ]
  },
  {
   "cell_type": "code",
   "execution_count": 13,
   "id": "363b6541-a2ae-4529-97ec-665d6160c5c1",
   "metadata": {},
   "outputs": [
    {
     "data": {
      "text/plain": [
       "2"
      ]
     },
     "execution_count": 13,
     "metadata": {},
     "output_type": "execute_result"
    }
   ],
   "source": [
    "5%3"
   ]
  },
  {
   "cell_type": "code",
   "execution_count": null,
   "id": "73497f9f-d893-445c-b19f-43cec8e259d8",
   "metadata": {},
   "outputs": [],
   "source": [
    "//-this is an floor divison operator also an airthmatic operator"
   ]
  },
  {
   "cell_type": "code",
   "execution_count": 14,
   "id": "90dea719-4544-470e-8fde-777564162640",
   "metadata": {},
   "outputs": [
    {
     "data": {
      "text/plain": [
       "2"
      ]
     },
     "execution_count": 14,
     "metadata": {},
     "output_type": "execute_result"
    }
   ],
   "source": [
    "4//2"
   ]
  },
  {
   "cell_type": "code",
   "execution_count": null,
   "id": "b7d5ddf2-00a7-4647-bb05-1db28506dec8",
   "metadata": {},
   "outputs": [],
   "source": [
    "**-this is an exponential operator\n"
   ]
  },
  {
   "cell_type": "code",
   "execution_count": 15,
   "id": "535716ca-6e2d-4201-8534-8d6e87600a29",
   "metadata": {},
   "outputs": [
    {
     "data": {
      "text/plain": [
       "81"
      ]
     },
     "execution_count": 15,
     "metadata": {},
     "output_type": "execute_result"
    }
   ],
   "source": [
    "3**4"
   ]
  },
  {
   "cell_type": "code",
   "execution_count": null,
   "id": "f2f84126-5f39-44c0-ac42-8c88011a52f0",
   "metadata": {},
   "outputs": [],
   "source": [
    "ques -4"
   ]
  },
  {
   "cell_type": "code",
   "execution_count": 16,
   "id": "dbcf1f42-3eed-4edc-b83b-8fc565843092",
   "metadata": {},
   "outputs": [
    {
     "name": "stdout",
     "output_type": "stream",
     "text": [
      "<class 'int'>\n",
      "<class 'int'>\n",
      "<class 'int'>\n",
      "<class 'int'>\n",
      "<class 'str'>\n",
      "<class 'str'>\n",
      "<class 'int'>\n",
      "<class 'bool'>\n",
      "<class 'float'>\n",
      "<class 'float'>\n"
     ]
    }
   ],
   "source": [
    "l=[1,2,3,4,\"supr\",\"pw skills \",23,True,34.98,87.90]\n",
    "for i in l:\n",
    "    print(type(i))"
   ]
  },
  {
   "cell_type": "code",
   "execution_count": null,
   "id": "ab7039c0-7534-443e-976c-c009edd5f416",
   "metadata": {},
   "outputs": [],
   "source": [
    "Ques-6"
   ]
  },
  {
   "cell_type": "code",
   "execution_count": 19,
   "id": "d06dba45-107a-4e63-aef2-d86824cec65f",
   "metadata": {},
   "outputs": [
    {
     "name": "stdout",
     "output_type": "stream",
     "text": [
      "25\n",
      "True\n",
      "False\n",
      "True\n",
      "True\n",
      "True\n",
      "False\n",
      "True\n",
      "False\n",
      "False\n",
      "False\n",
      "True\n",
      "False\n",
      "True\n",
      "False\n",
      "False\n",
      "True\n",
      "False\n",
      "True\n",
      "True\n",
      "True\n",
      "True\n",
      "True\n",
      "True\n",
      "False\n",
      "False\n",
      "not divisible by 3\n"
     ]
    }
   ],
   "source": [
    "l=[3,23,45,63,36,56,90,181,86,34,9,89,6,121,134,78,76,54,135,153,99,117,156,98,56]\n",
    "print(len(l))\n",
    "for i in l:\n",
    "    print(i%3==0)\n",
    "else:\n",
    "    print(\"not divisible by 3\")"
   ]
  },
  {
   "cell_type": "code",
   "execution_count": 25,
   "id": "213c7998-39a6-4758-ac7c-ddcb0e708a46",
   "metadata": {},
   "outputs": [
    {
     "name": "stdout",
     "output_type": "stream",
     "text": [
      "it is divisible\n"
     ]
    }
   ],
   "source": [
    "l=[3,23,45,63,36,56,90,181,86,34,9,89,6,121,134,78,76,54,135,153,99,117,156,98,56]\n",
    "if(i%3==0):\n",
    "    print(\"divisible by 3\")\n",
    "elif(i%3==1):\n",
    "    print(\"not divisible by 3\")\n",
    "else:\n",
    "    print(\"it is divisible\")\n",
    "\n",
    "    \n"
   ]
  },
  {
   "cell_type": "code",
   "execution_count": null,
   "id": "3cb5d031-7828-4511-95af-e11e80425fb9",
   "metadata": {},
   "outputs": [],
   "source": [
    "Ques-7"
   ]
  },
  {
   "cell_type": "code",
   "execution_count": null,
   "id": "564d86c0-83fd-4186-b8cd-d0e75fd3d7ab",
   "metadata": {},
   "outputs": [],
   "source": [
    "mutuable data type- whose values can be changed after they have been created\n",
    "ex=list\n",
    "immutable data type-whose values can not be chamged after they have been created\n",
    "ex=strings\n"
   ]
  },
  {
   "cell_type": "code",
   "execution_count": 9,
   "id": "2f16dbf3-4957-4abc-a208-1c64f48b2f32",
   "metadata": {},
   "outputs": [],
   "source": [
    "l=[1,2,4,\"supr\",7+5j,True,78.98]#mutuable\n"
   ]
  },
  {
   "cell_type": "code",
   "execution_count": 7,
   "id": "85cd226c-216f-4d19-b26d-32964ff89ade",
   "metadata": {},
   "outputs": [],
   "source": [
    "l[3]=\"pwskills\""
   ]
  },
  {
   "cell_type": "code",
   "execution_count": 8,
   "id": "fba0701d-c0e5-465c-a9f1-1765601136e3",
   "metadata": {},
   "outputs": [
    {
     "data": {
      "text/plain": [
       "[1, 2, 4, 'pwskills', (7+5j), True, 78.98]"
      ]
     },
     "execution_count": 8,
     "metadata": {},
     "output_type": "execute_result"
    }
   ],
   "source": [
    "l"
   ]
  },
  {
   "cell_type": "code",
   "execution_count": 19,
   "id": "6ba095da-c0dc-474d-9221-d0da1344721e",
   "metadata": {},
   "outputs": [],
   "source": [
    "s=\"supr\"#immutable"
   ]
  },
  {
   "cell_type": "code",
   "execution_count": 22,
   "id": "0f29c976-432d-4e4c-a2b3-ca3047ad5170",
   "metadata": {},
   "outputs": [
    {
     "ename": "TypeError",
     "evalue": "'str' object does not support item assignment",
     "output_type": "error",
     "traceback": [
      "\u001b[0;31m---------------------------------------------------------------------------\u001b[0m",
      "\u001b[0;31mTypeError\u001b[0m                                 Traceback (most recent call last)",
      "Cell \u001b[0;32mIn[22], line 1\u001b[0m\n\u001b[0;32m----> 1\u001b[0m \u001b[43ms\u001b[49m\u001b[43m[\u001b[49m\u001b[38;5;241;43m1\u001b[39;49m\u001b[43m]\u001b[49m\u001b[38;5;241m=\u001b[39m\u001b[38;5;124m'\u001b[39m\u001b[38;5;124ma\u001b[39m\u001b[38;5;124m'\u001b[39m\n",
      "\u001b[0;31mTypeError\u001b[0m: 'str' object does not support item assignment"
     ]
    }
   ],
   "source": [
    "s[1]='a'"
   ]
  },
  {
   "cell_type": "code",
   "execution_count": null,
   "id": "fa598c37-9388-4484-8446-bfc018b43125",
   "metadata": {},
   "outputs": [],
   "source": [
    "ques=5"
   ]
  },
  {
   "cell_type": "code",
   "execution_count": 1,
   "id": "b83a55ff-a975-43d1-a112-66eb7a5a12f7",
   "metadata": {},
   "outputs": [
    {
     "name": "stdin",
     "output_type": "stream",
     "text": [
      " 5\n",
      " 3\n"
     ]
    },
    {
     "name": "stdout",
     "output_type": "stream",
     "text": [
      "not divisible\n"
     ]
    }
   ],
   "source": [
    "a=int(input())\n",
    "b=int(input())\n",
    "c=0\n",
    "if (a/b==0):\n",
    "    while(a/b>=b and type(a/b)==int):\n",
    "        c+=1\n",
    "        a/=b\n",
    "    c\n",
    "else:\n",
    "    print(\"not divisible\")\n",
    "    "
   ]
  },
  {
   "cell_type": "code",
   "execution_count": null,
   "id": "18566bf8-50f4-49f1-97c4-d96e86457b05",
   "metadata": {},
   "outputs": [],
   "source": []
  },
  {
   "cell_type": "code",
   "execution_count": null,
   "id": "f0558f3b-d09a-46ff-ab79-df7b6f4ec92e",
   "metadata": {},
   "outputs": [],
   "source": []
  },
  {
   "cell_type": "code",
   "execution_count": null,
   "id": "2f107369-a2a8-4e02-a320-8a58f45ea30c",
   "metadata": {},
   "outputs": [],
   "source": []
  },
  {
   "cell_type": "code",
   "execution_count": null,
   "id": "0b731137-f45f-469a-bba4-e98bebd4cd7a",
   "metadata": {},
   "outputs": [],
   "source": []
  }
 ],
 "metadata": {
  "kernelspec": {
   "display_name": "Python 3 (ipykernel)",
   "language": "python",
   "name": "python3"
  },
  "language_info": {
   "codemirror_mode": {
    "name": "ipython",
    "version": 3
   },
   "file_extension": ".py",
   "mimetype": "text/x-python",
   "name": "python",
   "nbconvert_exporter": "python",
   "pygments_lexer": "ipython3",
   "version": "3.10.8"
  }
 },
 "nbformat": 4,
 "nbformat_minor": 5
}
